{
 "cells": [
  {
   "cell_type": "markdown",
   "id": "6aae2b21",
   "metadata": {},
   "source": [
    "# Use Case: Real Time Defect Analysis\n",
    "\n",
    "Here we use ProxyStore to speed up a real science workflow for real time defect analysis of TEM images."
   ]
  },
  {
   "cell_type": "markdown",
   "id": "a8d59bee",
   "metadata": {},
   "source": [
    "## Instructions\n",
    "\n",
    "### Setup\n",
    "\n",
    "1. Clone and install https://github.com/ivem-argonne/real-time-defect-analysis\n",
    "   ```bash\n",
    "   $ git clone https://github.com/ivem-argonne/real-time-defect-analysis\n",
    "   $ cd real-time-defect-analysis\n",
    "   $ conda env create --file environment.yml -p $(pwd)/env\n",
    "   $ conda activate $(pwd)/env\n",
    "   ```\n",
    "   Note: additional install notes are provided in the repository.\n",
    "2. Update FuncX and ProxyStore.\n",
    "   ```\n",
    "   $ pip install -U funcx funcx-endpoint\n",
    "   $ git clone git@github.com:proxystore/proxystore\n",
    "   $ cd proxystore\n",
    "   $ pip install -e .\n",
    "   $ cd ..\n",
    "   ```\n",
    "   Note: the `rtdefects` pacakge is written for FuncX 0.3 so a few lines may need to be fixed for 1.0 compatibility.\n",
    "3. Configure a FuncX endpoint on your machine of choice (ideally a GPU machine).\n",
    "   ```bash\n",
    "   $ funcx-endpoint configure rtdefects\n",
    "   $ funcx-endpoint start rtdefects\n",
    "   ```\n",
    "   Endpoint config reference: https://funcx.readthedocs.io/en/latest/endpoints.html.\n",
    "   Note: the endpoint configuration will need to be changed customized for the system, allocations, etc.\n",
    "4. Add ProxyStore capabilities. This will change slightly depending on the way you want to use ProxyStore.\n",
    "   - Initialize your preferred `Store` type.\n",
    "   - Proxy the `image_data` sent to FuncX in `FuncXSubmitEventHandler.submit_file()`.\n",
    "     ```python\n",
    "     image_data = store.proxy(image_data, evict=True)\n",
    "     task_id = self.client.run(self.segmenter, image_data, function_id=self.func_id, endpoint_id=self.endp_id)\n",
    "     ```\n",
    "   - If you want to proxy return data, modify the `_funcx_func` similarly.\n",
    "   \n",
    "### Run\n",
    "\n",
    "Follow the instructions in the repo: https://github.com/ivem-argonne/real-time-defect-analysis.\n",
    "\n",
    "Round-trip times are printed to `stdout`."
   ]
  },
  {
   "cell_type": "markdown",
   "id": "3af7c437",
   "metadata": {},
   "source": [
    "## Collected Data\n",
    "\n",
    "Each value in these lists is the roundtrip time in seconds of a single image processing task.\n",
    "\n",
    "Notes:\n",
    "- Input images are 1 MB.\n",
    "- Outputs are 1.1 MB.\n",
    "- FuncX endpoint is on a Polaris login node and tasks are executed on compute nodes.\n",
    "- For the FuncX baseline and `FileStore`, the client is on a Theta login node.\n",
    "- For the `EndpointStore`, the client is on Midway. A ProxyStore endpoint is configured on Midway and on Polaris login."
   ]
  },
  {
   "cell_type": "code",
   "execution_count": 4,
   "id": "75d1a2c5",
   "metadata": {},
   "outputs": [],
   "source": [
    "DATA = {\n",
    "    'funcx_baseline': [3.64, 3.51, 3.67, 3.74, 2.77, 3.64, 3.5, 2.82],\n",
    "    'file_store_inputs_only': [2.23, 2.42, 2.54, 2.21, 2.44, 2.22, 2.28, 2.2],\n",
    "    'file_store_inputs_only_async': [2.25, 2.33, 2.44, 2.4, 2.42, 2.47, 2.24, 2.28],\n",
    "    'file_store_inputs_outputs': [2.16, 2.23, 2.13, 2.15, 2.11, 2.13, 2.23, 2.14],\n",
    "    'endpoint_store_inputs_only': [2.44, 2.44, 2.46, 2.31, 2.25, 2.29, 2.3, 2.51],\n",
    "    'endpoint_store_inputs_outputs': [2.27, 2.39, 2.19, 2.33, 2.47, 2.21, 2.2, 2.18],\n",
    "    'endpoint_store_inputs_only_no_peering': [2.33, 2.52, 2.49, 2.36, 2.28, 2.29, 2.23, 2.5],\n",
    "}"
   ]
  },
  {
   "cell_type": "code",
   "execution_count": 15,
   "id": "65e5ce1c",
   "metadata": {},
   "outputs": [
    {
     "name": "stdout",
     "output_type": "stream",
     "text": [
      "Config                                 | Avg RTT (ms) | Stdev (ms)\n",
      "------------------------------------------------------------------\n",
      "funcx_baseline                         |      3411.25 |     388.79\n",
      "file_store_inputs_only                 |      2317.50 |     130.36\n",
      "file_store_inputs_only_async           |      2353.75 |      90.39\n",
      "file_store_inputs_outputs              |      2160.00 |      45.67\n",
      "endpoint_store_inputs_only             |      2375.00 |      97.54\n",
      "endpoint_store_inputs_outputs          |      2280.00 |     107.04\n",
      "endpoint_store_inputs_only_no_peering  |      2375.00 |     113.01\n"
     ]
    }
   ],
   "source": [
    "import statistics\n",
    "\n",
    "print(f'{\"Config\":38} | {\"Avg RTT (ms)\":12} | {\"Stdev (ms)\":10}')\n",
    "print('-' * (38 + 12 + 10 + (2 * 3)))\n",
    "\n",
    "for config, data in DATA.items():\n",
    "    data = [1000 * x for x in data]\n",
    "    mean = sum(data) / len(data)\n",
    "    stdev = statistics.stdev(data)\n",
    "    print(f'{config:38} | {mean:12.2f} | {stdev:10.2f}')"
   ]
  },
  {
   "cell_type": "code",
   "execution_count": null,
   "id": "1781e8c4",
   "metadata": {},
   "outputs": [],
   "source": []
  }
 ],
 "metadata": {
  "kernelspec": {
   "display_name": "Python 3 (ipykernel)",
   "language": "python",
   "name": "python3"
  },
  "language_info": {
   "codemirror_mode": {
    "name": "ipython",
    "version": 3
   },
   "file_extension": ".py",
   "mimetype": "text/x-python",
   "name": "python",
   "nbconvert_exporter": "python",
   "pygments_lexer": "ipython3",
   "version": "3.11.1"
  }
 },
 "nbformat": 4,
 "nbformat_minor": 5
}
