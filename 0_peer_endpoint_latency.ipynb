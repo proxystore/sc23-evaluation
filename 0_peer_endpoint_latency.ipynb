{
 "cells": [
  {
   "cell_type": "markdown",
   "id": "23100da1-d98e-4f51-97e3-9ea72cf1de6a",
   "metadata": {},
   "source": [
    "# Latency Between Peer Endpoints"
   ]
  },
  {
   "cell_type": "code",
   "execution_count": null,
   "id": "14af5106-b471-4fc7-aa33-9b50d1641b46",
   "metadata": {},
   "outputs": [],
   "source": []
  }
 ],
 "metadata": {
  "kernelspec": {
   "display_name": "Python 3 (ipykernel)",
   "language": "python",
   "name": "python3"
  },
  "language_info": {
   "codemirror_mode": {
    "name": "ipython",
    "version": 3
   },
   "file_extension": ".py",
   "mimetype": "text/x-python",
   "name": "python",
   "nbconvert_exporter": "python",
   "pygments_lexer": "ipython3",
   "version": "3.8.12"
  }
 },
 "nbformat": 4,
 "nbformat_minor": 5
}
