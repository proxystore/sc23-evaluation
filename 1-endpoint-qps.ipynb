{
 "cells": [
  {
   "cell_type": "markdown",
   "id": "e68ba785",
   "metadata": {},
   "source": [
    "# Endpoint QPS\n",
    "\n",
    "The goal of this experiment is to understand the limit of what a single endpoint can handle. We test this by launching a bunch of workers on the system with the endpoint that make `get`/`set` requests to the endpoint."
   ]
  },
  {
   "cell_type": "markdown",
   "id": "20e6898d",
   "metadata": {},
   "source": [
    "## Instructions\n",
    "\n",
    "### Setup\n",
    "\n",
    "1. Clone and install https://github.com/proxystore/proxystore-benchmarks\n",
    "   ```bash\n",
    "   $ git clone git@github.com:proxystore/proxystore-benchmarks.git\n",
    "   $ cd proxystore-benchmarks\n",
    "   $ virtualenv venv\n",
    "   $ . venv/bin/activate\n",
    "   $ pip install -e .\n",
    "   ```\n",
    "2. Configure a ProxyStore endpoint\n",
    "   ```bash\n",
    "   $ proxystore-endpoint configure psbench\n",
    "   $ proxystore-endpoint start psbench &> /dev/null &\n",
    "   ```\n",
    "   Note: endpoint logs will still be written to ~/.proxystore\n",
    "   \n",
    "### Run\n",
    "\n",
    "```bash\n",
    "$ python -m psbench.benchmarks.endpoint_qps \\\n",
    "    {ENDPOINT UUID} \\\n",
    "    --route SET \\\n",
    "    --queries 1000 \\\n",
    "    --workers 4 \\\n",
    "    --payload-size 1000\n",
    "```"
   ]
  },
  {
   "cell_type": "code",
   "execution_count": 1,
   "id": "d116af95",
   "metadata": {},
   "outputs": [],
   "source": [
    "import matplotlib.pyplot as plt\n",
    "import pandas\n",
    "\n",
    "plt.style.use('seaborn-colorblind')"
   ]
  }
 ],
 "metadata": {
  "kernelspec": {
   "display_name": "Python 3 (ipykernel)",
   "language": "python",
   "name": "python3"
  },
  "language_info": {
   "codemirror_mode": {
    "name": "ipython",
    "version": 3
   },
   "file_extension": ".py",
   "mimetype": "text/x-python",
   "name": "python",
   "nbconvert_exporter": "python",
   "pygments_lexer": "ipython3",
   "version": "3.10.6"
  }
 },
 "nbformat": 4,
 "nbformat_minor": 5
}
